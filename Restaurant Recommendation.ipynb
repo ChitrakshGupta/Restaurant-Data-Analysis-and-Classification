{
 "cells": [
  {
   "cell_type": "markdown",
   "id": "eaca3879",
   "metadata": {},
   "source": [
    "# Task2: Restaurant Recommendation\n",
    "\n",
    "## Objective\n",
    "Create a restaurant recommendation system based on user preferences."
   ]
  },
  {
   "cell_type": "code",
   "execution_count": 2,
   "id": "9c470f51",
   "metadata": {},
   "outputs": [
    {
     "name": "stdout",
     "output_type": "stream",
     "text": [
      "Cuisine Options:\n",
      "1. Italian\n",
      "2. Chinese\n",
      "3. Indian\n",
      "Price Range Options:\n",
      "1. Low (Below 300)\n",
      "2. Moderate (300-700)\n",
      "3. High (Above 700)\n",
      "Enter the number corresponding to your preferred cuisine: 2\n",
      "Enter the number corresponding to your preferred price range: 1\n",
      "Top Recommendations:\n",
      "1. Ting's Red Lantern\n",
      "2. Tsing Tsao South\n",
      "3. Chang Garden\n",
      "4. Hong Kong Chinese Restaurant\n",
      "5. Golden China\n",
      "6. Chopstick\n",
      "7. Chings Chinese\n",
      "8. Food On Wheels\n",
      "9. Maa Kali Foods\n",
      "10. Red Chilli\n"
     ]
    }
   ],
   "source": [
    "import pandas as pd\n",
    "from sklearn.preprocessing import LabelEncoder\n",
    "from sklearn.metrics.pairwise import cosine_similarity\n",
    "from sklearn.feature_extraction.text import TfidfVectorizer\n",
    "\n",
    "# Load the dataset\n",
    "df = pd.read_csv('dataset.csv')\n",
    "\n",
    "# Preprocess the dataset\n",
    "# Handle missing values\n",
    "df['Cuisines'].fillna('Unknown', inplace=True)\n",
    "\n",
    "# Encode categorical variables\n",
    "label_encoder = LabelEncoder()\n",
    "df['Cuisine_Encoded'] = label_encoder.fit_transform(df['Cuisines'])\n",
    "\n",
    "# Define criteria for recommendations\n",
    "def get_recommendations(cuisine_preference, price_range):\n",
    "    # Filter restaurants based on criteria\n",
    "    filtered_restaurants = df[(df['Cuisine_Encoded'] == cuisine_preference) & (df['Price range'] == price_range)]\n",
    "    \n",
    "    # Implement content-based filtering\n",
    "    tfidf_vectorizer = TfidfVectorizer()\n",
    "    tfidf_matrix = tfidf_vectorizer.fit_transform(filtered_restaurants['Cuisines'])\n",
    "    cosine_sim = cosine_similarity(tfidf_matrix, tfidf_matrix)\n",
    "    \n",
    "    # Sample recommendation - return top similar restaurants\n",
    "    top_recommendations = []\n",
    "    if len(cosine_sim) > 0:\n",
    "        sim_scores = list(enumerate(cosine_sim[0]))\n",
    "        sim_scores = sorted(sim_scores, key=lambda x: x[1], reverse=True)\n",
    "        sim_scores = sim_scores[1:11]  # Top 10 similar restaurants\n",
    "        restaurant_indices = [i[0] for i in sim_scores]\n",
    "        top_recommendations = filtered_restaurants.iloc[restaurant_indices]['Restaurant Name'].tolist()\n",
    "    \n",
    "    return top_recommendations\n",
    "\n",
    "# Cuisine options\n",
    "print(\"Cuisine Options:\")\n",
    "print(\"1. Italian\")\n",
    "print(\"2. Chinese\")\n",
    "print(\"3. Indian\")\n",
    "# Add more cuisines as needed\n",
    "\n",
    "# Price range options\n",
    "print(\"Price Range Options:\")\n",
    "print(\"1. Low (Below 300)\")\n",
    "print(\"2. Moderate (300-700)\")\n",
    "print(\"3. High (Above 700)\")\n",
    "# Add more price range options as needed\n",
    "\n",
    "# Get user preferences\n",
    "cuisine_choice = int(input(\"Enter the number corresponding to your preferred cuisine: \"))\n",
    "price_range_choice = int(input(\"Enter the number corresponding to your preferred price range: \"))\n",
    "\n",
    "# Map cuisine choice to encoded value\n",
    "cuisine_mapping = {1: 'Italian', 2: 'Chinese', 3: 'Indian'}  # Update with more cuisines if needed\n",
    "cuisine_preference = label_encoder.transform([cuisine_mapping[cuisine_choice]])[0]\n",
    "\n",
    "# Map price range choice to encoded value\n",
    "price_range_mapping = {1: 1, 2: 2, 3: 3}  # Update with more price range options if needed\n",
    "price_range = price_range_mapping[price_range_choice]\n",
    "\n",
    "# Get recommendations based on user preferences\n",
    "recommendations = get_recommendations(cuisine_preference, price_range)\n",
    "\n",
    "# Display recommendations\n",
    "print(\"Top Recommendations:\")\n",
    "for i, restaurant in enumerate(recommendations, 1):\n",
    "    print(f\"{i}. {restaurant}\")\n"
   ]
  },
  {
   "cell_type": "markdown",
   "id": "29252b93",
   "metadata": {},
   "source": [
    "The recommendation system successfully filtered restaurants based on cuisine preference and price range.\n",
    "Cosine similarity was used to find similar restaurants based on cuisine descriptions.\n",
    "Further improvements could include considering additional factors like user ratings, location, and restaurant features."
   ]
  },
  {
   "cell_type": "code",
   "execution_count": null,
   "id": "6ab0c5d7",
   "metadata": {},
   "outputs": [],
   "source": []
  }
 ],
 "metadata": {
  "kernelspec": {
   "display_name": "Python 3 (ipykernel)",
   "language": "python",
   "name": "python3"
  },
  "language_info": {
   "codemirror_mode": {
    "name": "ipython",
    "version": 3
   },
   "file_extension": ".py",
   "mimetype": "text/x-python",
   "name": "python",
   "nbconvert_exporter": "python",
   "pygments_lexer": "ipython3",
   "version": "3.11.5"
  }
 },
 "nbformat": 4,
 "nbformat_minor": 5
}
